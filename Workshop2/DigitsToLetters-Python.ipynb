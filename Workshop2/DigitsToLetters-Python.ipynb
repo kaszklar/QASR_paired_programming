{
 "cells": [
  {
   "cell_type": "markdown",
   "metadata": {},
   "source": [
    "# Digits to Letters"
   ]
  },
  {
   "cell_type": "code",
   "execution_count": 69,
   "metadata": {},
   "outputs": [],
   "source": [
    "phone={'1':[''], '2':['a','b','c'],'3':['d','e','f'],'4':['g','h','i'],'5':['j','k','l'],'6':['m','n','o'],'7':['p','q','r','s'],'8':['t','u','v'],'9':['w','x','y','z'],'0':['']}\n",
    "\n",
    "def digitsToLetters(digits):\n",
    "    result = []\n",
    "    def toCombine(current, leftoverDigits):\n",
    "        if not leftoverDigits:\n",
    "            result.append(current)\n",
    "            return \n",
    "        else:\n",
    "            for char in phone[leftoverDigits[0]]:\n",
    "                toCombine(current + char, leftoverDigits[1:])\n",
    "\n",
    "    if not digits:\n",
    "        return []\n",
    "    else: \n",
    "        toCombine(\"\", digits)\n",
    "        return result"
   ]
  },
  {
   "cell_type": "code",
   "execution_count": 70,
   "metadata": {},
   "outputs": [
    {
     "data": {
      "text/plain": [
       "['dgta',\n",
       " 'dgtb',\n",
       " 'dgtc',\n",
       " 'dgua',\n",
       " 'dgub',\n",
       " 'dguc',\n",
       " 'dgva',\n",
       " 'dgvb',\n",
       " 'dgvc',\n",
       " 'dhta',\n",
       " 'dhtb',\n",
       " 'dhtc',\n",
       " 'dhua',\n",
       " 'dhub',\n",
       " 'dhuc',\n",
       " 'dhva',\n",
       " 'dhvb',\n",
       " 'dhvc',\n",
       " 'dita',\n",
       " 'ditb',\n",
       " 'ditc',\n",
       " 'diua',\n",
       " 'diub',\n",
       " 'diuc',\n",
       " 'diva',\n",
       " 'divb',\n",
       " 'divc',\n",
       " 'egta',\n",
       " 'egtb',\n",
       " 'egtc',\n",
       " 'egua',\n",
       " 'egub',\n",
       " 'eguc',\n",
       " 'egva',\n",
       " 'egvb',\n",
       " 'egvc',\n",
       " 'ehta',\n",
       " 'ehtb',\n",
       " 'ehtc',\n",
       " 'ehua',\n",
       " 'ehub',\n",
       " 'ehuc',\n",
       " 'ehva',\n",
       " 'ehvb',\n",
       " 'ehvc',\n",
       " 'eita',\n",
       " 'eitb',\n",
       " 'eitc',\n",
       " 'eiua',\n",
       " 'eiub',\n",
       " 'eiuc',\n",
       " 'eiva',\n",
       " 'eivb',\n",
       " 'eivc',\n",
       " 'fgta',\n",
       " 'fgtb',\n",
       " 'fgtc',\n",
       " 'fgua',\n",
       " 'fgub',\n",
       " 'fguc',\n",
       " 'fgva',\n",
       " 'fgvb',\n",
       " 'fgvc',\n",
       " 'fhta',\n",
       " 'fhtb',\n",
       " 'fhtc',\n",
       " 'fhua',\n",
       " 'fhub',\n",
       " 'fhuc',\n",
       " 'fhva',\n",
       " 'fhvb',\n",
       " 'fhvc',\n",
       " 'fita',\n",
       " 'fitb',\n",
       " 'fitc',\n",
       " 'fiua',\n",
       " 'fiub',\n",
       " 'fiuc',\n",
       " 'fiva',\n",
       " 'fivb',\n",
       " 'fivc']"
      ]
     },
     "execution_count": 70,
     "metadata": {},
     "output_type": "execute_result"
    }
   ],
   "source": [
    "digitsToLetters(\"3482\")"
   ]
  },
  {
   "cell_type": "code",
   "execution_count": null,
   "metadata": {},
   "outputs": [],
   "source": []
  }
 ],
 "metadata": {
  "kernelspec": {
   "display_name": "Python 3",
   "language": "python",
   "name": "python3"
  },
  "language_info": {
   "codemirror_mode": {
    "name": "ipython",
    "version": 3
   },
   "file_extension": ".py",
   "mimetype": "text/x-python",
   "name": "python",
   "nbconvert_exporter": "python",
   "pygments_lexer": "ipython3",
   "version": "3.8.1"
  }
 },
 "nbformat": 4,
 "nbformat_minor": 4
}
