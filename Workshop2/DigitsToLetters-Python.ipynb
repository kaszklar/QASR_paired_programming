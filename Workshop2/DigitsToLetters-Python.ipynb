{
 "cells": [
  {
   "cell_type": "markdown",
   "metadata": {},
   "source": [
    "# Digits to Letters"
   ]
  },
  {
   "cell_type": "code",
   "execution_count": 69,
   "metadata": {},
   "outputs": [],
   "source": [
    "phone={'1':[''], '2':['a','b','c'],'3':['d','e','f'],'4':['g','h','i'],'5':['j','k','l'],'6':['m','n','o'],'7':['p','q','r','s'],'8':['t','u','v'],'9':['w','x','y','z'],'0':['']}\n",
    "\n",
    "def digitsToLetters(digits):\n",
    "    result = []\n",
    "    def toCombine(current, leftoverDigits):\n",
    "        if not leftoverDigits:\n",
    "            result.append(current)\n",
    "            return \n",
    "        else:\n",
    "            for char in phone[leftoverDigits[0]]:\n",
    "                toCombine(current + char, leftoverDigits[1:])\n",
    "\n",
    "    if not digits:\n",
    "        return []\n",
    "    else: \n",
    "        toCombine(\"\", digits)\n",
    "        return result"
   ]
  },
  {
   "cell_type": "code",
   "execution_count": 70,
   "metadata": {},
   "outputs": [
    {
     "data": {
      "text/plain": [
       "['dgta',\n",
       " 'dgtb',\n",
       " 'dgtc',\n",
       " 'dgua',\n",
       " 'dgub',\n",
       " 'dguc',\n",
       " 'dgva',\n",
       " 'dgvb',\n",
       " 'dgvc',\n",
       " 'dhta',\n",
       " 'dhtb',\n",
       " 'dhtc',\n",
       " 'dhua',\n",
       " 'dhub',\n",
       " 'dhuc',\n",
       " 'dhva',\n",
       " 'dhvb',\n",
       " 'dhvc',\n",
       " 'dita',\n",
       " 'ditb',\n",
       " 'ditc',\n",
       " 'diua',\n",
       " 'diub',\n",
       " 'diuc',\n",
       " 'diva',\n",
       " 'divb',\n",
       " 'divc',\n",
       " 'egta',\n",
       " 'egtb',\n",
       " 'egtc',\n",
       " 'egua',\n",
       " 'egub',\n",
       " 'eguc',\n",
       " 'egva',\n",
       " 'egvb',\n",
       " 'egvc',\n",
       " 'ehta',\n",
       " 'ehtb',\n",
       " 'ehtc',\n",
       " 'ehua',\n",
       " 'ehub',\n",
       " 'ehuc',\n",
       " 'ehva',\n",
       " 'ehvb',\n",
       " 'ehvc',\n",
       " 'eita',\n",
       " 'eitb',\n",
       " 'eitc',\n",
       " 'eiua',\n",
       " 'eiub',\n",
       " 'eiuc',\n",
       " 'eiva',\n",
       " 'eivb',\n",
       " 'eivc',\n",
       " 'fgta',\n",
       " 'fgtb',\n",
       " 'fgtc',\n",
       " 'fgua',\n",
       " 'fgub',\n",
       " 'fguc',\n",
       " 'fgva',\n",
       " 'fgvb',\n",
       " 'fgvc',\n",
       " 'fhta',\n",
       " 'fhtb',\n",
       " 'fhtc',\n",
       " 'fhua',\n",
       " 'fhub',\n",
       " 'fhuc',\n",
       " 'fhva',\n",
       " 'fhvb',\n",
       " 'fhvc',\n",
       " 'fita',\n",
       " 'fitb',\n",
       " 'fitc',\n",
       " 'fiua',\n",
       " 'fiub',\n",
       " 'fiuc',\n",
       " 'fiva',\n",
       " 'fivb',\n",
       " 'fivc']"
      ]
     },
     "execution_count": 70,
     "metadata": {},
     "output_type": "execute_result"
    }
   ],
   "source": [
    "digitsToLetters(\"3482\")"
   ]
  },
  {
   "cell_type": "code",
   "execution_count": null,
   "metadata": {},
   "outputs": [],
   "source": []
  },
  {
   "cell_type": "markdown",
   "metadata": {},
   "source": [
    "1. Flip the coin twice.\n",
    "2. If both tosses are the same (heads-heads or tails-tails), repeat step 1.\n",
    "3. If the tosses come up heads-tails, count the toss as heads. If the tosses come up tails-heads, count it as tails."
   ]
  },
  {
   "cell_type": "markdown",
   "metadata": {},
   "source": []
  },
  {
   "cell_type": "code",
   "execution_count": 72,
   "metadata": {},
   "outputs": [],
   "source": [
    "from random import random"
   ]
  },
  {
   "cell_type": "code",
   "execution_count": 97,
   "metadata": {},
   "outputs": [],
   "source": [
    "# set the probability of the unfair distribution\n",
    "unfairP = .3"
   ]
  },
  {
   "cell_type": "code",
   "execution_count": 98,
   "metadata": {},
   "outputs": [],
   "source": [
    "def unfairCoin(unfairP):\n",
    "    if (random() < unfairP):\n",
    "        return 1\n",
    "    else:\n",
    "        return 0\n",
    "    \n",
    "def fairCoin():\n",
    "    coin1 = 0\n",
    "    coin2 = 0\n",
    "    while coin1 == coin2:\n",
    "        coin1 = unfairCoin(unfairP)\n",
    "        coin2 = unfairCoin(unfairP)\n",
    "    return coin1"
   ]
  },
  {
   "cell_type": "markdown",
   "metadata": {},
   "source": [
    "### simulate tosses to prove that the unfair has been made fair"
   ]
  },
  {
   "cell_type": "code",
   "execution_count": 99,
   "metadata": {},
   "outputs": [],
   "source": [
    "def simulate(fair = True):\n",
    "    heads = 0\n",
    "    tails = 0 \n",
    "    for i in range(1000):\n",
    "        if fair:\n",
    "            if fairCoin():\n",
    "                heads+=1\n",
    "            else:\n",
    "                tails+=1\n",
    "        else:\n",
    "            if unfairCoin(unfairP):\n",
    "                heads+=1\n",
    "            else:\n",
    "                tails+=1\n",
    "    print(heads/(heads+tails))"
   ]
  },
  {
   "cell_type": "code",
   "execution_count": 102,
   "metadata": {},
   "outputs": [
    {
     "name": "stdout",
     "output_type": "stream",
     "text": [
      "0.293\n"
     ]
    }
   ],
   "source": [
    "simulate(fair=False)"
   ]
  },
  {
   "cell_type": "code",
   "execution_count": 103,
   "metadata": {},
   "outputs": [
    {
     "name": "stdout",
     "output_type": "stream",
     "text": [
      "0.496\n"
     ]
    }
   ],
   "source": [
    "simulate(fair=True)"
   ]
  }
 ],
 "metadata": {
  "kernelspec": {
   "display_name": "Python 3",
   "language": "python",
   "name": "python3"
  },
  "language_info": {
   "codemirror_mode": {
    "name": "ipython",
    "version": 3
   },
   "file_extension": ".py",
   "mimetype": "text/x-python",
   "name": "python",
   "nbconvert_exporter": "python",
   "pygments_lexer": "ipython3",
   "version": "3.8.1"
  }
 },
 "nbformat": 4,
 "nbformat_minor": 4
}
