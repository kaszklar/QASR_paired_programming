{
 "cells": [
  {
   "cell_type": "markdown",
   "metadata": {},
   "source": [
    "# Make a fair coin from a biased one"
   ]
  },
  {
   "cell_type": "markdown",
   "metadata": {},
   "source": [
    "You can find an explanation of this solution [here](https://www.xarg.org/2018/01/make-a-fair-coin-from-a-biased-coin/), but the steps of the algorithm are listed below:\n",
    "\n",
    "1. Flip the coin twice.\n",
    "2. If both tosses are the same (heads-heads or tails-tails), repeat step 1.\n",
    "3. If the tosses come up heads-tails, count the toss as heads. If the tosses come up tails-heads, count it as tails."
   ]
  },
  {
   "cell_type": "code",
   "execution_count": 1,
   "metadata": {},
   "outputs": [],
   "source": [
    "from random import random"
   ]
  },
  {
   "cell_type": "code",
   "execution_count": 2,
   "metadata": {},
   "outputs": [],
   "source": [
    "# set the probability of the unfair distribution\n",
    "unfairP = .3"
   ]
  },
  {
   "cell_type": "code",
   "execution_count": 3,
   "metadata": {},
   "outputs": [],
   "source": [
    "def unfairCoin(unfairP):\n",
    "    if (random() < unfairP):\n",
    "        return 1\n",
    "    else:\n",
    "        return 0\n",
    "    \n",
    "def fairCoin():\n",
    "    coin1 = 0\n",
    "    coin2 = 0\n",
    "    while coin1 == coin2:\n",
    "        coin1 = unfairCoin(unfairP)\n",
    "        coin2 = unfairCoin(unfairP)\n",
    "    return coin1"
   ]
  },
  {
   "cell_type": "markdown",
   "metadata": {},
   "source": [
    "### simulate tosses to prove that the unfair has been made fair"
   ]
  },
  {
   "cell_type": "code",
   "execution_count": 4,
   "metadata": {},
   "outputs": [],
   "source": [
    "def simulate(fair = True):\n",
    "    heads = 0\n",
    "    tails = 0 \n",
    "    for i in range(1000):\n",
    "        if fair:\n",
    "            if fairCoin():\n",
    "                heads+=1\n",
    "            else:\n",
    "                tails+=1\n",
    "        else:\n",
    "            if unfairCoin(unfairP):\n",
    "                heads+=1\n",
    "            else:\n",
    "                tails+=1\n",
    "    print(heads/(heads+tails))"
   ]
  },
  {
   "cell_type": "code",
   "execution_count": 5,
   "metadata": {},
   "outputs": [
    {
     "name": "stdout",
     "output_type": "stream",
     "text": [
      "0.312\n"
     ]
    }
   ],
   "source": [
    "simulate(fair=False)"
   ]
  },
  {
   "cell_type": "code",
   "execution_count": 6,
   "metadata": {},
   "outputs": [
    {
     "name": "stdout",
     "output_type": "stream",
     "text": [
      "0.523\n"
     ]
    }
   ],
   "source": [
    "simulate(fair=True)"
   ]
  },
  {
   "cell_type": "code",
   "execution_count": null,
   "metadata": {},
   "outputs": [],
   "source": []
  }
 ],
 "metadata": {
  "kernelspec": {
   "display_name": "Python 3",
   "language": "python",
   "name": "python3"
  },
  "language_info": {
   "codemirror_mode": {
    "name": "ipython",
    "version": 3
   },
   "file_extension": ".py",
   "mimetype": "text/x-python",
   "name": "python",
   "nbconvert_exporter": "python",
   "pygments_lexer": "ipython3",
   "version": "3.8.1"
  }
 },
 "nbformat": 4,
 "nbformat_minor": 4
}
